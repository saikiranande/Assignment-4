{
 "cells": [
  {
   "cell_type": "code",
   "execution_count": null,
   "id": "021d88a7",
   "metadata": {},
   "outputs": [],
   "source": [
    "# Q1)Write a Python program to create a lambda function that adds 25 to a given number passed in as an argument."
   ]
  },
  {
   "cell_type": "code",
   "execution_count": 6,
   "id": "c7e65f79",
   "metadata": {},
   "outputs": [],
   "source": [
    "y = lambda x:x+25"
   ]
  },
  {
   "cell_type": "code",
   "execution_count": 11,
   "id": "5687bf67",
   "metadata": {},
   "outputs": [
    {
     "data": {
      "text/plain": [
       "35"
      ]
     },
     "execution_count": 11,
     "metadata": {},
     "output_type": "execute_result"
    }
   ],
   "source": [
    "y(10)"
   ]
  },
  {
   "cell_type": "code",
   "execution_count": 15,
   "id": "d179e5d0",
   "metadata": {},
   "outputs": [
    {
     "name": "stdout",
     "output_type": "stream",
     "text": [
      "35\n"
     ]
    }
   ],
   "source": [
    "y=10\n",
    "print((lambda x:x+25)(y))"
   ]
  },
  {
   "cell_type": "code",
   "execution_count": null,
   "id": "0e211c20",
   "metadata": {},
   "outputs": [],
   "source": []
  },
  {
   "cell_type": "code",
   "execution_count": null,
   "id": "e6c60191",
   "metadata": {},
   "outputs": [],
   "source": [
    "# Q2)Write a Python program to triple all numbers of a given list of integers. Use Python map."
   ]
  },
  {
   "cell_type": "code",
   "execution_count": 16,
   "id": "1b94df60",
   "metadata": {},
   "outputs": [],
   "source": [
    "l = [1,2,3,4,5,6,7]\n",
    "new_list = list(map(lambda x:x*3,l))"
   ]
  },
  {
   "cell_type": "code",
   "execution_count": 17,
   "id": "ccb066fc",
   "metadata": {},
   "outputs": [
    {
     "data": {
      "text/plain": [
       "[3, 6, 9, 12, 15, 18, 21]"
      ]
     },
     "execution_count": 17,
     "metadata": {},
     "output_type": "execute_result"
    }
   ],
   "source": [
    "new_list"
   ]
  },
  {
   "cell_type": "code",
   "execution_count": 18,
   "id": "f62b0005",
   "metadata": {},
   "outputs": [
    {
     "name": "stdout",
     "output_type": "stream",
     "text": [
      "[3, 6, 9, 12, 15, 18, 21]\n"
     ]
    }
   ],
   "source": [
    "l = [1,2,3,4,5,6,7]\n",
    "print(list(map(lambda x:x*3,l)))"
   ]
  },
  {
   "cell_type": "code",
   "execution_count": null,
   "id": "ca97bfec",
   "metadata": {},
   "outputs": [],
   "source": []
  },
  {
   "cell_type": "code",
   "execution_count": null,
   "id": "4ddd7f25",
   "metadata": {},
   "outputs": [],
   "source": [
    "# Q3)Write a Python program to square the elements of a list using map() function."
   ]
  },
  {
   "cell_type": "code",
   "execution_count": 19,
   "id": "d992d722",
   "metadata": {},
   "outputs": [
    {
     "name": "stdout",
     "output_type": "stream",
     "text": [
      "[16, 25, 4, 81]\n"
     ]
    }
   ],
   "source": [
    "l=[4, 5, 2, 9]\n",
    "print(list(map(lambda x:x**2,l)))"
   ]
  },
  {
   "cell_type": "code",
   "execution_count": null,
   "id": "6072e32a",
   "metadata": {},
   "outputs": [],
   "source": []
  }
 ],
 "metadata": {
  "kernelspec": {
   "display_name": "Python 3 (ipykernel)",
   "language": "python",
   "name": "python3"
  },
  "language_info": {
   "codemirror_mode": {
    "name": "ipython",
    "version": 3
   },
   "file_extension": ".py",
   "mimetype": "text/x-python",
   "name": "python",
   "nbconvert_exporter": "python",
   "pygments_lexer": "ipython3",
   "version": "3.9.7"
  }
 },
 "nbformat": 4,
 "nbformat_minor": 5
}
